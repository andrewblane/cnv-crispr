{
 "cells": [
  {
   "cell_type": "code",
   "execution_count": null,
   "metadata": {
    "collapsed": false
   },
   "outputs": [],
   "source": [
    "import pandas\n",
    "import numpy\n",
    "import matplotlib\n",
    "import matplotlib.pyplot as plt\n",
    "import numpy as np \n",
    "import scipy\n",
    "import scipy.stats as stats\n",
    "import pylab "
   ]
  },
  {
   "cell_type": "code",
   "execution_count": null,
   "metadata": {
    "collapsed": true
   },
   "outputs": [],
   "source": [
    "# Set input files\n",
    "\n",
    "# Guide-seq data\n",
    "guide_seq_data_file = \"data/crispr_guide_data.tsv\"\n",
    "\n",
    "# Cell line CNV data. Supplied as log10 ratios.\n",
    "cnv_data_file = \"data/GSM952580_full.txt\"\n",
    "\n",
    "# Manufacturer-supplied descriptor of CNV data array\n",
    "array_index_file = \"data/GPL9777-1843.txt\""
   ]
  },
  {
   "cell_type": "code",
   "execution_count": null,
   "metadata": {
    "collapsed": false
   },
   "outputs": [],
   "source": [
    "guide_seq_data = pandas.read_table(open(guide_seq_data_file, \"r\"),\\\n",
    "                          dtype={'gene_name': numpy.str})\n",
    "cnv_data = pandas.read_table(open(cnv_data_file, \"r\"), converters={'ID_REF': numpy.int},\\\n",
    "                             engine=\"python\", skiprows = 4, skipfooter=1)\n",
    "array_index = pandas.read_table(open(array_index_file ,\"r\"), dtype={'ID': numpy.int},\\\n",
    "                                comment=\"#\")"
   ]
  },
  {
   "cell_type": "code",
   "execution_count": null,
   "metadata": {
    "collapsed": false
   },
   "outputs": [],
   "source": [
    "# Match up CNV data entries (which are supplied as numeric gene IDs)\n",
    "# with the index describing how those IDs map to gene names\n",
    "print(\"Matching CNV data to array key...\")\n",
    "cnv_ratios_and_genenames = pandas.concat([cnv_data, array_index], axis=1)"
   ]
  },
  {
   "cell_type": "code",
   "execution_count": null,
   "metadata": {
    "collapsed": false
   },
   "outputs": [],
   "source": [
    "def check_ids_in_contantenated_table_match():\n",
    "\n",
    "    for item in cnv_ratios_and_genenames.iterrows():\n",
    "        if item[1][\"ID_REF\"] == item[1][\"ID\"]:\n",
    "            None\n",
    "        else:\n",
    "            print(item[1])\n",
    "            print(\"\\n\")\n",
    "            print(repr(item[1][\"ID_REF\"]))\n",
    "            print(repr(item[1][\"ID\"]))\n",
    "            break\n",
    "    else:\n",
    "        print(\"\\tArray keys matched and verified.\")"
   ]
  },
  {
   "cell_type": "code",
   "execution_count": null,
   "metadata": {
    "collapsed": false
   },
   "outputs": [],
   "source": [
    "check_ids_in_contantenated_table_match()"
   ]
  },
  {
   "cell_type": "markdown",
   "metadata": {},
   "source": [
    "Next take the guide data and extract that subset of the CNV data that overlaps with the guide data. "
   ]
  },
  {
   "cell_type": "markdown",
   "metadata": {},
   "source": [
    "At this point we need to take the CNV data that intersects with regions covered by guides. The ideal here would to be map each guide back to genomic coordinates and correlate those with the coordinates supplied in the CGH array data. However, for the sake of completing this in a reasonable amount of time, I'm going to trust that the `gene_name` in the guide data can be intersected with the `GENE_SYMBOL` in the CNV data.\n",
    "\n",
    "So, next we take the CNV data entries that have `GENE_SYMBOL` set (i.e. not an `NaN`). "
   ]
  },
  {
   "cell_type": "code",
   "execution_count": null,
   "metadata": {
    "collapsed": false
   },
   "outputs": [],
   "source": [
    "cnv_ratios_and_genenames = cnv_ratios_and_genenames.dropna(subset=[\"GENE_SYMBOL\"])"
   ]
  },
  {
   "cell_type": "markdown",
   "metadata": {},
   "source": [
    "The next step relies of being able to intersect the two datasets; ideally all the gene names in the sgRNA data are represented in the CGH data. We're also going to proceed differently depending on whether genes in the CGH dataset are represented in more than one array spot. This will bring us to the first question of how to statistically represent multiple mesurements in both the sgRNAs and CNV spots within a gene."
   ]
  },
  {
   "cell_type": "markdown",
   "metadata": {},
   "source": [
    "First task:\n",
    "\n",
    "The CNV data contains multiple array spots for different parts of each gene. We really want to reduce these data to a single median value per gene, as genes are the atomic unit in our sgRNA data. (\"VALUE\" is the column containing the log10 ratios of control to A375 spot intensity). log10 Cy5/Cy3, i.e. A375/control. Greater than 0 is enriched in A375; less than 1 is depleted in A375."
   ]
  },
  {
   "cell_type": "code",
   "execution_count": null,
   "metadata": {
    "collapsed": false
   },
   "outputs": [],
   "source": [
    "# Collapse the values for each gene into a single median gene value\n",
    "cnv_grouped_by_gene = cnv_ratios_and_genenames[[\"VALUE\", \"GENE_SYMBOL\"]]\\\n",
    "    .groupby('GENE_SYMBOL').agg([numpy.median, numpy.std, len])"
   ]
  },
  {
   "cell_type": "markdown",
   "metadata": {},
   "source": [
    "Second task:\n",
    "\n",
    "Figure out how much guides targeting each gene in the guide-seq data are depleted or enriched at each timepoint. This is a little more complicated as we first need to normalize the cell data against the starting plasmid concentration. Looking at the data, the minimum value in the guide-seq data is 1, indicating that the rest of the data is likely a multiple of that base value. Simply dividing the sequenced cell-guide abundance by the plasmid input data and log transforming for each gene should be sufficient."
   ]
  },
  {
   "cell_type": "code",
   "execution_count": null,
   "metadata": {
    "collapsed": false
   },
   "outputs": [],
   "source": [
    "guide_abundance = guide_seq_data.iloc[:,4:].div(guide_seq_data\\\n",
    "                                                [\"norm_count_plasmid\"],\\\n",
    "                                                axis='index')\n",
    "# Apply a log transform to these ratio data\n",
    "guide_abundance = guide_abundance.applymap(numpy.log)\n",
    "\n",
    "# Merge the first column of the original data (i.e. the gene labels) with the newly normalized data\n",
    "guide_abundance = pandas.merge(pandas.DataFrame(guide_seq_data.iloc[:,0]), guide_abundance, left_index=True, right_index=True)\n",
    "# Now summarize by gene name like was done with the CNV data\n",
    "guide_abundance = guide_abundance.groupby('gene_name').agg([numpy.median, numpy.std, len])"
   ]
  },
  {
   "cell_type": "markdown",
   "metadata": {},
   "source": [
    "Next concern is how well the datasets map onto each other. Are there many genes targeted by guides that for some reason aren't in the CNV data, or vice-versa?"
   ]
  },
  {
   "cell_type": "code",
   "execution_count": null,
   "metadata": {
    "collapsed": false
   },
   "outputs": [],
   "source": [
    "print(str(len(cnv_grouped_by_gene)) + \" genes found in the CNV dataset supplied.\")"
   ]
  },
  {
   "cell_type": "code",
   "execution_count": null,
   "metadata": {
    "collapsed": false
   },
   "outputs": [],
   "source": [
    "print(str(len(guide_abundance)) + \" genes found in the guide-seq dataset supplied.\")"
   ]
  },
  {
   "cell_type": "markdown",
   "metadata": {},
   "source": [
    "So, there are 17808 genes in the CNV dataset, but only 17419 in the sgRNA dataset. That's not unexpected; some sgRNAs are likely to be totally lost in library preparation, whereas all intended spots are imaged on the CNV array."
   ]
  },
  {
   "cell_type": "code",
   "execution_count": null,
   "metadata": {
    "collapsed": false
   },
   "outputs": [],
   "source": [
    "# Merge those rows containing genes in both CNV and guide-seq datasets:\n",
    "cnv_and_guides = pandas.merge(cnv_grouped_by_gene, guide_abundance, left_index=True, right_index=True, how=\"inner\")\n",
    "print(str(len(cnv_and_guides)) + \" genes occur in both the CNV and guide-seq datasets. Analysis will continue with these genes.\")\n",
    "\n",
    "# Show how many unique genes are seen in both datasets:\n",
    "print(\"(A total of \" + str(len(pandas.merge(cnv_grouped_by_gene, guide_abundance, left_index=True, \\\n",
    "                           right_index=True, how=\"outer\"))) + \" unique genes were encountered across both datasets.)\")"
   ]
  },
  {
   "cell_type": "code",
   "execution_count": null,
   "metadata": {
    "collapsed": true
   },
   "outputs": [],
   "source": [
    "#Rename some columns to help keep track.\n",
    "cnv_and_guides =cnv_and_guides.rename(columns={'VALUE': 'CNV'})"
   ]
  },
  {
   "cell_type": "markdown",
   "metadata": {},
   "source": [
    "There are 19,959 genes when you pool both datasets, but we only have both sgRNA abundance data and CNV data for 15,268 of them. Ultimately we don't have a choice but to work only with those 15,268, but it's worth seeing what the non-matching genes are to check if we've done something wrong. Uncomment the following lines to output a list of all genes."
   ]
  },
  {
   "cell_type": "code",
   "execution_count": null,
   "metadata": {
    "collapsed": false
   },
   "outputs": [],
   "source": [
    "all_genes = pandas.merge(cnv_grouped_by_gene, guide_abundance, left_index=True, \\\n",
    "                            right_index=True, how=\"outer\").rename(columns={'VALUE': 'CNV'})\n",
    "\n",
    "# Write rows with null values in the CNV data to csv file\n",
    "all_genes[all_genes.isnull().CNV.iloc[:,0]].to_csv(open(\"genes_found_only_in_guide-seq_data.csv\", \"w\"))\n",
    "\n",
    "# Write rows with null values in the guide-seq data to csv file\n",
    "all_genes[all_genes.isnull().iloc[:,-1]].to_csv(open(\"genes_found_only_in_CNV_data.csv\", \"w\"))"
   ]
  },
  {
   "cell_type": "markdown",
   "metadata": {},
   "source": [
    "Anyway,  we want the inner join - genes that are in both sets:"
   ]
  },
  {
   "cell_type": "code",
   "execution_count": null,
   "metadata": {
    "collapsed": false
   },
   "outputs": [],
   "source": [
    "# Get the median guide-seq data for each sample.\n",
    "column_names = cnv_and_guides.columns.get_level_values(0)\n",
    "sample_column_medians = [(\"CNV\", \"median\"), (\"CNV\", \"std\")]\n",
    "\n",
    "# Take every third item in the list that's not CNV data\n",
    "sample_columns = [name for index, name in enumerate(column_names) if index in range(0, len(column_names), 3) and name !=\"CNV\"]\n",
    "sample_column_medians.extend([(item, \"median\") for item in sample_columns])\n",
    "\n",
    "# Trim the data to the medians of the guide-seq data for each gene\n",
    "df = cnv_and_guides.loc[:,sample_column_medians]"
   ]
  },
  {
   "cell_type": "code",
   "execution_count": null,
   "metadata": {
    "collapsed": false
   },
   "outputs": [],
   "source": [
    "# What is the actual mean CNV in the total dataset? \n",
    "# Null hypothesis is that best linear fit of values will have y = 0x + mean(CNV)\n",
    "print(\"Mean CNV in the dataset across guide-targeted regions is \" + str(df.loc[:,(\"CNV\", \"median\")].mean()))"
   ]
  },
  {
   "cell_type": "code",
   "execution_count": null,
   "metadata": {
    "collapsed": false
   },
   "outputs": [],
   "source": [
    "# What guide-targeted regions of the genome exhibit the most extreme CNV?\n",
    "df.loc[:,(\"CNV\", \"median\")].sort_values().to_csv(open(\"ranked_cnv_by_gene.csv\", \"w\"))\n",
    "print(\"Ranked list of CNV by guide-targeted genes output to ranked_cnv_by_gene.csv\\n\")\n",
    "print(\"Top copy-number amplified genes\\ngene\\tfold enriched over control cells\")\n",
    "print(df.loc[:,(\"CNV\", \"median\")].sort_values().tail(15).iloc[::-1])\n",
    "\n",
    "print(\"\\nTop copy-number depleted genes\\ngene\\tfold enriched over control cells\")\n",
    "print(df.loc[:,(\"CNV\", \"median\")].sort_values().head(15))"
   ]
  },
  {
   "cell_type": "markdown",
   "metadata": {},
   "source": [
    "For this question, we're most interested in selection as a function of CNV. Whether this results in a growth advantage (leading to enrichment of a particular guide) or a growth disadvantage (leading to depletion of a particularl guide) is a peculiarity of the gene in question rather than the global effect of CNV on the ability of a guide to alter editing efficiency as a whole. In other words, the absolute factor of selection rather than the direction of selection is of most interest. So, I'm going to take the absolute value of the guide-seq data and fit that as a function of copy number. \n",
    "\n",
    "One hypothesis is that extra copies (high CNV) will result in less guide selection and that low copy would mean greater selective power of a given guide. That is, as CNV increases, guide selection index should decrease.\n",
    "\n",
    "The results of linear function fitting, parameters and plots are output to a PDF file \"CNV vs Guide-Seq Abundance.pdf\"."
   ]
  },
  {
   "cell_type": "code",
   "execution_count": null,
   "metadata": {
    "collapsed": false,
    "scrolled": false
   },
   "outputs": [],
   "source": [
    "#http://www.wired.com/2011/01/linear-regression-with-pylab/\n",
    "#https://stackoverflow.com/questions/2451264/creating-a-colormap-legend-in-matplotlib\n",
    "font = {'size'   : 15}\n",
    "matplotlib.rc('font', **font)\n",
    "\n",
    "IndexSlice = pandas.IndexSlice\n",
    "df.sortlevel(inplace=True, axis=1)\n",
    "guide_enrichment = df.loc[:,IndexSlice[:,\"median\"]].iloc[:,1:].apply(abs)\n",
    "figure, axes = plt.subplots(len(guide_enrichment.columns), 1, sharex=False, sharey=False, figsize=(15,10*len(guide_enrichment.columns)))\n",
    "\n",
    "cnv = df[\"CNV\"][\"median\"]\n",
    "\n",
    "for i, axes in enumerate(axes.ravel())  :\n",
    "    y_axis = guide_enrichment.iloc[:,i]\n",
    "    name = y_axis.name\n",
    "    # Make a dummy plot to generate a color scale \n",
    "    cbardummy = plt.hist2d(cnv, y_axis, bins = 200, cmap=\"Greys\")\n",
    "    figure.colorbar(cbardummy[3], ax=axes)\n",
    "\n",
    "    # Generate the 2d histogram plot itself\n",
    "    axes.hist2d(cnv, y_axis, bins = 200, cmap=\"Greys\")\n",
    "\n",
    "    # Fit a linear regression to the data\n",
    "    slope, intercept, rvalue, pvalue, stderr = scipy.stats.linregress(cnv, y_axis)\n",
    "\n",
    "    # Display rsquared and slope of fit on the plot\n",
    "    axes.annotate(str(\"p = \" + str(pvalue) + \"\\nslope = \" + str(slope)), \\\n",
    "                  xy = (0.05,0.95), color=\"k\", va=\"top\", ha=\"left\", xycoords='axes fraction')\n",
    "\n",
    "    # Add the fit line to the plot\n",
    "    yp = np.polyval([slope,intercept], cnv)\n",
    "    axes.plot(cnv, yp, color=\"r\")\n",
    "\n",
    "    axes.set_title(name[0])\n",
    "    axes.set_ylabel(\"Guide Selection Factor (absolute\\nvs input plasmid representation)\")\n",
    "    axes.set_xlabel(\"Copy Number Variation Factor\")\n",
    "\n",
    "print(\"Plotted data and fit saved to CNV vs Guide Abundance.pdf.\")\n",
    "figure.savefig(\"CNV vs Guide Abundance.pdf\", format='pdf')"
   ]
  }
 ],
 "metadata": {
  "kernelspec": {
   "display_name": "Python 3",
   "language": "python",
   "name": "python3"
  },
  "language_info": {
   "codemirror_mode": {
    "name": "ipython",
    "version": 3
   },
   "file_extension": ".py",
   "mimetype": "text/x-python",
   "name": "python",
   "nbconvert_exporter": "python",
   "pygments_lexer": "ipython3",
   "version": "3.4.3"
  }
 },
 "nbformat": 4,
 "nbformat_minor": 0
}
